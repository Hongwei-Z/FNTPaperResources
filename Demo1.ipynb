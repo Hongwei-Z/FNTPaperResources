{
 "cells": [
  {
   "cell_type": "markdown",
   "metadata": {
    "collapsed": true,
    "pycharm": {
     "name": "#%% md\n"
    }
   },
   "source": [
    "Experiments and Feature Showcases"
   ]
  },
  {
   "cell_type": "code",
   "execution_count": 1,
   "outputs": [],
   "source": [
    "import FNT\n",
    "import secrets\n",
    "from datetime import datetime"
   ],
   "metadata": {
    "collapsed": false,
    "pycharm": {
     "name": "#%%\n"
    }
   }
  },
  {
   "cell_type": "markdown",
   "source": [
    "Define rate and number of nodes"
   ],
   "metadata": {
    "collapsed": false,
    "pycharm": {
     "name": "#%% md\n"
    }
   }
  },
  {
   "cell_type": "code",
   "execution_count": 2,
   "outputs": [],
   "source": [
    "rate = 6\n",
    "size = 100"
   ],
   "metadata": {
    "collapsed": false,
    "pycharm": {
     "name": "#%%\n"
    }
   }
  },
  {
   "cell_type": "markdown",
   "source": [
    "Create a FishingNet, add nodes"
   ],
   "metadata": {
    "collapsed": false,
    "pycharm": {
     "name": "#%% md\n"
    }
   }
  },
  {
   "cell_type": "code",
   "execution_count": 3,
   "outputs": [
    {
     "name": "stdout",
     "output_type": "stream",
     "text": [
      "Node 0, 9bf32a03dd400f624a99faeb7c0d1b76, 2022-08-17 14:06:50.309464, Tips: [None, None]\n",
      "Node 1, 20e4ca57527502bb74be3982f1857933, 2022-08-17 14:06:50.309464, Tips: [0, None]\n",
      "Node 2, d7b4079f601c3413d92d27d1e2bd9e7d, 2022-08-17 14:06:50.309464, Tips: [0, None]\n",
      "Node 3, 3e9f102cd5732d3f0ce8de172edab366, 2022-08-17 14:06:50.309464, Tips: [1, None]\n",
      "Node 4, f047e92213c42763a79c1634dcf955d2, 2022-08-17 14:06:50.309464, Tips: [1, 2]\n",
      "Node 5, 70743300d5bd859fbb796be9af3848c6, 2022-08-17 14:06:50.309464, Tips: [2, None]\n",
      "Node 6, e26917d413b4935c70da95d4c7289d5d, 2022-08-17 14:06:50.309464, Tips: [3, None]\n",
      "Node 7, c16dc9259a0a3fd99fa5153458d5f8b4, 2022-08-17 14:06:50.309464, Tips: [3, 4]\n",
      "Node 8, 3652331bc790493111de27b4af73c5fc, 2022-08-17 14:06:50.309464, Tips: [4, 5]\n",
      "Node 9, 1f8d4714995b96df8b08db81e32fce1e, 2022-08-17 14:06:50.309464, Tips: [5, None]\n",
      "Node 10, cb5e8dc25636fbfc34c8342f2c37f41f, 2022-08-17 14:06:50.309464, Tips: [6, None]\n",
      "Node 11, d56d25c2c4486aef464738fc991cb91d, 2022-08-17 14:06:50.309464, Tips: [6, 7]\n",
      "Node 12, fa8b2544abb457089717b3fbb400946a, 2022-08-17 14:06:50.309464, Tips: [7, 8]\n",
      "Node 13, fb36670dee528f803a4d7e61384f69b4, 2022-08-17 14:06:50.309464, Tips: [8, 9]\n",
      "Node 14, 4edb25b54b157f82792d89705b3d5d98, 2022-08-17 14:06:50.309464, Tips: [9, None]\n",
      "Node 15, be8a483961ef73611c0b2dedbc4b6903, 2022-08-17 14:06:50.309464, Tips: [10, None]\n",
      "Node 16, 16b033285bf7bf022554f593d203a16e, 2022-08-17 14:06:50.309464, Tips: [10, 11]\n",
      "Node 17, e81dcd2a9f2b67caff2664f46c8e10a9, 2022-08-17 14:06:50.309464, Tips: [11, 12]\n",
      "Node 18, 7f556fef553ff46bde6f15366754eba5, 2022-08-17 14:06:50.309464, Tips: [12, 13]\n",
      "Node 19, 29235a4d3f0859760ddf8ced977f0f98, 2022-08-17 14:06:50.309464, Tips: [13, 14]\n",
      "Node 20, d62c2ef60c97c450b4ab6a2f0ae9d793, 2022-08-17 14:06:50.309464, Tips: [14, None]\n",
      "Node 21, 710ccbd32e9e5a46d31a403729dac576, 2022-08-17 14:06:50.309464, Tips: [15, 16]\n",
      "Node 22, 2fc77eab65cf7029c10fde386533a831, 2022-08-17 14:06:50.309464, Tips: [16, 17]\n",
      "Node 23, 16bc29f87d5b1ab1f78fc854e6efa80a, 2022-08-17 14:06:50.309464, Tips: [17, 18]\n",
      "Node 24, 9064906f9539724cd0c0437b557a9b30, 2022-08-17 14:06:50.309464, Tips: [18, 19]\n",
      "Node 25, 681dbd5b06098ca21d767d9906a53aa4, 2022-08-17 14:06:50.309464, Tips: [19, 20]\n",
      "Node 26, 976e447eec8f495caf3b1e57205cc1c5, 2022-08-17 14:06:50.309464, Tips: [15, 21]\n",
      "Node 27, 328dbd0813ba0ee92f18ba5dc1afd438, 2022-08-17 14:06:50.309464, Tips: [21, 22]\n",
      "Node 28, 29978cc08b2c160c2ded96e57705fa9f, 2022-08-17 14:06:50.309464, Tips: [22, 23]\n",
      "Node 29, 6f8c7e2b693406f63312b347dbb52519, 2022-08-17 14:06:50.309464, Tips: [23, 24]\n",
      "Node 30, 225a4e9e211ed6b0670a5ea9dd2c11fe, 2022-08-17 14:06:50.309464, Tips: [24, 25]\n",
      "Node 31, 907f1c685971a3f212e2acf4d6a0f6b0, 2022-08-17 14:06:50.309464, Tips: [20, 25]\n",
      "Node 32, da34ad6e0b16129436d5b2320ba87a26, 2022-08-17 14:06:50.309464, Tips: [26, 27]\n",
      "Node 33, 0de378b288d77d0cd39620db2676980f, 2022-08-17 14:06:50.309464, Tips: [27, 28]\n",
      "Node 34, 48fdf8752521af5304e63a0967d5a607, 2022-08-17 14:06:50.309464, Tips: [28, 29]\n",
      "Node 35, 9d2957a37a431bf453515e10449037a1, 2022-08-17 14:06:50.309464, Tips: [29, 30]\n",
      "Node 36, b63aee3af21578598d6f4f7a9032828a, 2022-08-17 14:06:50.309464, Tips: [30, 31]\n",
      "Node 37, 9e612a5af76fd717ec6529c99dabd874, 2022-08-17 14:06:50.309464, Tips: [26, 32]\n",
      "Node 38, b94ddad747bcf98ba9a3f8e3f95b6e17, 2022-08-17 14:06:50.309464, Tips: [32, 33]\n",
      "Node 39, 83c850358d7b06a3d50a61c1acc6bca5, 2022-08-17 14:06:50.309464, Tips: [33, 34]\n",
      "Node 40, 86c7f2661605655f8ad5bdc93de1dd5e, 2022-08-17 14:06:50.309464, Tips: [34, 35]\n",
      "Node 41, d6be8c4aa8f91e1c417375807281a957, 2022-08-17 14:06:50.309464, Tips: [35, 36]\n",
      "Node 42, 41ce4e2dcea42bdda092650fd84ec6bd, 2022-08-17 14:06:50.309464, Tips: [31, 36]\n",
      "Node 43, ee295b62e5172db95ed6a75fe8bfbb27, 2022-08-17 14:06:50.309464, Tips: [37, 38]\n",
      "Node 44, dc2e0795008b1fb13181febaab8f212e, 2022-08-17 14:06:50.309464, Tips: [38, 39]\n",
      "Node 45, 3c4f863edce05f63eb6bfdf33a98b0a3, 2022-08-17 14:06:50.309464, Tips: [39, 40]\n",
      "Node 46, 7385262436b742e72949324815e5b0d4, 2022-08-17 14:06:50.309464, Tips: [40, 41]\n",
      "Node 47, a0b322ed13bc641a700ad78fdbf5d2b5, 2022-08-17 14:06:50.309464, Tips: [41, 42]\n",
      "Node 48, a1dac35182cf9c5638dc03e945fe6222, 2022-08-17 14:06:50.309464, Tips: [37, 43]\n",
      "Node 49, 94c1f904b0dca4c2f8ce2a81e7f42d7b, 2022-08-17 14:06:50.309464, Tips: [43, 44]\n",
      "Node 50, 3d47d1e16f2301c58fb121bf0e2b722b, 2022-08-17 14:06:50.309464, Tips: [44, 45]\n",
      "Node 51, f5f5ecdb78c47eae0b0b1a5a401b5552, 2022-08-17 14:06:50.309464, Tips: [45, 46]\n",
      "Node 52, 13bc1b80ae1b9992ec3caa6e1500c0f1, 2022-08-17 14:06:50.309464, Tips: [46, 47]\n",
      "Node 53, b5c76b09c29820f5d2eeb95fa67d35af, 2022-08-17 14:06:50.309464, Tips: [42, 47]\n",
      "Node 54, d58919874a46aa73bef95555211777fc, 2022-08-17 14:06:50.309464, Tips: [48, 49]\n",
      "Node 55, e0ac39f5637f5a454eec34a605e98d0b, 2022-08-17 14:06:50.309464, Tips: [49, 50]\n",
      "Node 56, ceebb8b581eb0c371d0f9f481d5817ee, 2022-08-17 14:06:50.309464, Tips: [50, 51]\n",
      "Node 57, c1ba60e5b0c2ae1957523f3c86e75499, 2022-08-17 14:06:50.309464, Tips: [51, 52]\n",
      "Node 58, dc57f2d66a94df527ab00ceb3b1d764c, 2022-08-17 14:06:50.309464, Tips: [52, 53]\n",
      "Node 59, 4a9d1cc4462f148f10663f2626271c61, 2022-08-17 14:06:50.309464, Tips: [48, 54]\n",
      "Node 60, 275bca7f480f1ffd30a48e22d9fbb5f8, 2022-08-17 14:06:50.309464, Tips: [54, 55]\n",
      "Node 61, 41302352adc8c07c5b66383609c37027, 2022-08-17 14:06:50.309464, Tips: [55, 56]\n",
      "Node 62, 7ba0b91716c62fcbe71d246228f9d3a6, 2022-08-17 14:06:50.309464, Tips: [56, 57]\n",
      "Node 63, 0a6c1e1ae57b51066508142504c55377, 2022-08-17 14:06:50.309464, Tips: [57, 58]\n",
      "Node 64, 3e5a68f8adea807b90ebf512a3423fc5, 2022-08-17 14:06:50.309464, Tips: [53, 58]\n",
      "Node 65, baffee7170ac6642ec4fa097aa2b6b29, 2022-08-17 14:06:50.309464, Tips: [59, 60]\n",
      "Node 66, b4a591f09ea734132343fb67cc03af58, 2022-08-17 14:06:50.309464, Tips: [60, 61]\n",
      "Node 67, 33e89d60e9099ba6c7b01882ddab7977, 2022-08-17 14:06:50.309464, Tips: [61, 62]\n",
      "Node 68, 139d00693a85844ae9154d0ef7bda7b3, 2022-08-17 14:06:50.309464, Tips: [62, 63]\n",
      "Node 69, e368d18faff03af4c957a6d3e879d326, 2022-08-17 14:06:50.309464, Tips: [63, 64]\n",
      "Node 70, c6090a307d420ae297fcb503df41e7a2, 2022-08-17 14:06:50.309464, Tips: [59, 65]\n",
      "Node 71, a6bea117cd9a085691e0ab9fb7c06302, 2022-08-17 14:06:50.309464, Tips: [65, 66]\n",
      "Node 72, 57ba5148dc1946540d353ad005d59aa2, 2022-08-17 14:06:50.309464, Tips: [66, 67]\n",
      "Node 73, 8e11d22747c4a06501244c8f159b6732, 2022-08-17 14:06:50.309464, Tips: [67, 68]\n",
      "Node 74, 00af542b41db027f666b145677d2add1, 2022-08-17 14:06:50.309464, Tips: [68, 69]\n",
      "Node 75, 0724a98e4f67ee4de81563961cd8dbd8, 2022-08-17 14:06:50.310461, Tips: [64, 69]\n",
      "Node 76, a22ffa4bfabbe75f64983d4db3db6d71, 2022-08-17 14:06:50.310461, Tips: [70, 71]\n",
      "Node 77, 90c5229846f5e3e76a1cdc8210b66de0, 2022-08-17 14:06:50.310461, Tips: [71, 72]\n",
      "Node 78, 2329315cd8de353adb858bb651ba8aaa, 2022-08-17 14:06:50.310461, Tips: [72, 73]\n",
      "Node 79, bce3a868cd7944db10d2b067dcca47d2, 2022-08-17 14:06:50.310461, Tips: [73, 74]\n",
      "Node 80, dc6f3b9b747bb5b193fe409780c714f2, 2022-08-17 14:06:50.310461, Tips: [74, 75]\n",
      "Node 81, cc66e444326512f04387ba0a893588a4, 2022-08-17 14:06:50.310461, Tips: [70, 76]\n",
      "Node 82, f8e2ad7aeef3c53e98c2a302e327e751, 2022-08-17 14:06:50.310461, Tips: [76, 77]\n",
      "Node 83, 64def3dad9803913d0ddfb1dc69907f4, 2022-08-17 14:06:50.310461, Tips: [77, 78]\n",
      "Node 84, d61ce9d6f5c3a918812e468ffe2b39f1, 2022-08-17 14:06:50.310461, Tips: [78, 79]\n",
      "Node 85, a33f16c807b0eadbc20619e0d55dd946, 2022-08-17 14:06:50.310461, Tips: [79, 80]\n",
      "Node 86, 0ecc9f25fffb98dfc2ba45c3386bb885, 2022-08-17 14:06:50.310461, Tips: [75, 80]\n",
      "Node 87, 11369009c75014dd939c5539b9e96b20, 2022-08-17 14:06:50.310461, Tips: [81, 82]\n",
      "Node 88, 06223871dba306deef43d9ac593141a5, 2022-08-17 14:06:50.310461, Tips: [82, 83]\n",
      "Node 89, a2485bcaea4ac39a9e1406120ae79d86, 2022-08-17 14:06:50.310461, Tips: [83, 84]\n",
      "Node 90, a52878a1e27e61e099a3c769512c3f8f, 2022-08-17 14:06:50.310461, Tips: [84, 85]\n",
      "Node 91, 222ff54e6e16c45c2779a46bf1dc0b73, 2022-08-17 14:06:50.310461, Tips: [85, 86]\n",
      "Node 92, 3bad7667a159d25e38ad8995b15d0258, 2022-08-17 14:06:50.310461, Tips: [81, 87]\n",
      "Node 93, ff86e48957032c4cab25b529fc88e1a6, 2022-08-17 14:06:50.310461, Tips: [87, 88]\n",
      "Node 94, 09afa4b7c937c96cae21c40f0593c0d5, 2022-08-17 14:06:50.310461, Tips: [88, 89]\n",
      "Node 95, a7d12bf4ae8a9fb6784d4e1ba41dcc02, 2022-08-17 14:06:50.310461, Tips: [89, 90]\n",
      "Node 96, c8fb6747f42db698b872b5d60b3cf39b, 2022-08-17 14:06:50.310461, Tips: [90, 91]\n",
      "Node 97, 7123914229ecda1870f47fbb8e8100b7, 2022-08-17 14:06:50.310461, Tips: [86, 91]\n",
      "Node 98, 41331d4950c2ce9cc1cc5a05cbbe1dd6, 2022-08-17 14:06:50.310461, Tips: [92, 93]\n",
      "Node 99, 711513f59f39d493447c1303ff39d486, 2022-08-17 14:06:50.310461, Tips: [93, 94]\n"
     ]
    }
   ],
   "source": [
    "fnt = FNT.FishingNet(rate)\n",
    "for i in range(size):\n",
    "    fnt.nextNode(secrets.token_hex(16), datetime.now())\n",
    "fnt.printFNT()"
   ],
   "metadata": {
    "collapsed": false,
    "pycharm": {
     "name": "#%%\n"
    }
   }
  },
  {
   "cell_type": "markdown",
   "source": [
    "Find a node and show the result"
   ],
   "metadata": {
    "collapsed": false,
    "pycharm": {
     "name": "#%% md\n"
    }
   }
  },
  {
   "cell_type": "code",
   "execution_count": 4,
   "outputs": [
    {
     "name": "stdout",
     "output_type": "stream",
     "text": [
      "Node 80, dc6f3b9b747bb5b193fe409780c714f2, 2022-08-17 14:06:50.310461, Tips: [74, 75]\n"
     ]
    }
   ],
   "source": [
    "fnt.findNode(80)"
   ],
   "metadata": {
    "collapsed": false,
    "pycharm": {
     "name": "#%%\n"
    }
   }
  },
  {
   "cell_type": "markdown",
   "source": [
    "Find tips for a node and show the result"
   ],
   "metadata": {
    "collapsed": false,
    "pycharm": {
     "name": "#%% md\n"
    }
   }
  },
  {
   "cell_type": "code",
   "execution_count": 5,
   "outputs": [
    {
     "name": "stdout",
     "output_type": "stream",
     "text": [
      "Node 84, d61ce9d6f5c3a918812e468ffe2b39f1, 2022-08-17 14:06:50.310461, Tips: [78, 79]\n",
      "Node 85, a33f16c807b0eadbc20619e0d55dd946, 2022-08-17 14:06:50.310461, Tips: [79, 80]\n"
     ]
    }
   ],
   "source": [
    "fnt.findTips(90)"
   ],
   "metadata": {
    "collapsed": false,
    "pycharm": {
     "name": "#%%\n"
    }
   }
  },
  {
   "cell_type": "markdown",
   "source": [
    "Find the two nodes that approve this node"
   ],
   "metadata": {
    "collapsed": false,
    "pycharm": {
     "name": "#%% md\n"
    }
   }
  },
  {
   "cell_type": "code",
   "execution_count": 6,
   "outputs": [
    {
     "name": "stdout",
     "output_type": "stream",
     "text": [
      "Node 95, a7d12bf4ae8a9fb6784d4e1ba41dcc02, 2022-08-17 14:06:50.310461, Tips: [89, 90]\n",
      "Node 96, c8fb6747f42db698b872b5d60b3cf39b, 2022-08-17 14:06:50.310461, Tips: [90, 91]\n"
     ]
    }
   ],
   "source": [
    "fnt.findApprover(90)"
   ],
   "metadata": {
    "collapsed": false,
    "pycharm": {
     "name": "#%%\n"
    }
   }
  },
  {
   "cell_type": "markdown",
   "source": [
    "Find the cumulative weight of a node"
   ],
   "metadata": {
    "collapsed": false,
    "pycharm": {
     "name": "#%% md\n"
    }
   }
  },
  {
   "cell_type": "code",
   "execution_count": 7,
   "outputs": [
    {
     "data": {
      "text/plain": "3"
     },
     "execution_count": 7,
     "metadata": {},
     "output_type": "execute_result"
    }
   ],
   "source": [
    "fnt.findCW(90)"
   ],
   "metadata": {
    "collapsed": false,
    "pycharm": {
     "name": "#%%\n"
    }
   }
  },
  {
   "cell_type": "markdown",
   "source": [
    "Print all nodes that have directly or indirectly approved this node"
   ],
   "metadata": {
    "collapsed": false,
    "pycharm": {
     "name": "#%% md\n"
    }
   }
  },
  {
   "cell_type": "code",
   "execution_count": 8,
   "outputs": [
    {
     "name": "stdout",
     "output_type": "stream",
     "text": [
      "Node 90, a52878a1e27e61e099a3c769512c3f8f, 2022-08-17 14:06:50.310461, Tips: [84, 85]\n",
      "Node 95, a7d12bf4ae8a9fb6784d4e1ba41dcc02, 2022-08-17 14:06:50.310461, Tips: [89, 90]\n",
      "Node 96, c8fb6747f42db698b872b5d60b3cf39b, 2022-08-17 14:06:50.310461, Tips: [90, 91]\n"
     ]
    }
   ],
   "source": [
    "fnt.findSubnet(90)"
   ],
   "metadata": {
    "collapsed": false,
    "pycharm": {
     "name": "#%%\n"
    }
   }
  },
  {
   "cell_type": "markdown",
   "source": [
    "Disable a node, only disconnect from other nodes, not delete data"
   ],
   "metadata": {
    "collapsed": false,
    "pycharm": {
     "name": "#%% md\n"
    }
   }
  },
  {
   "cell_type": "code",
   "execution_count": 9,
   "outputs": [
    {
     "name": "stdout",
     "output_type": "stream",
     "text": [
      "Node 0, 9bf32a03dd400f624a99faeb7c0d1b76, 2022-08-17 14:06:50.309464, Tips: [None, None]\n",
      "Node 1, 20e4ca57527502bb74be3982f1857933, 2022-08-17 14:06:50.309464, Tips: [0, None]\n",
      "Node 2, d7b4079f601c3413d92d27d1e2bd9e7d, 2022-08-17 14:06:50.309464, Tips: [0, None]\n",
      "Node 3, 3e9f102cd5732d3f0ce8de172edab366, 2022-08-17 14:06:50.309464, Tips: [1, None]\n",
      "Node 4, f047e92213c42763a79c1634dcf955d2, 2022-08-17 14:06:50.309464, Tips: [1, 2]\n",
      "Node 5, 70743300d5bd859fbb796be9af3848c6, 2022-08-17 14:06:50.309464, Tips: [2, None]\n",
      "Node 6, e26917d413b4935c70da95d4c7289d5d, 2022-08-17 14:06:50.309464, Tips: [3, None]\n",
      "Node 7, c16dc9259a0a3fd99fa5153458d5f8b4, 2022-08-17 14:06:50.309464, Tips: [3, 4]\n",
      "Node 8, 3652331bc790493111de27b4af73c5fc, 2022-08-17 14:06:50.309464, Tips: [4, 5]\n",
      "Node 9, 1f8d4714995b96df8b08db81e32fce1e, 2022-08-17 14:06:50.309464, Tips: [5, None]\n",
      "Node 10, cb5e8dc25636fbfc34c8342f2c37f41f, 2022-08-17 14:06:50.309464, Tips: [6, None]\n",
      "Node 11, d56d25c2c4486aef464738fc991cb91d, 2022-08-17 14:06:50.309464, Tips: [6, 7]\n",
      "Node 12, fa8b2544abb457089717b3fbb400946a, 2022-08-17 14:06:50.309464, Tips: [7, 8]\n",
      "Node 13, fb36670dee528f803a4d7e61384f69b4, 2022-08-17 14:06:50.309464, Tips: [8, 9]\n",
      "Node 14, 4edb25b54b157f82792d89705b3d5d98, 2022-08-17 14:06:50.309464, Tips: [9, None]\n",
      "Node 15, be8a483961ef73611c0b2dedbc4b6903, 2022-08-17 14:06:50.309464, Tips: [10, None]\n",
      "Node 16, 16b033285bf7bf022554f593d203a16e, 2022-08-17 14:06:50.309464, Tips: [10, 11]\n",
      "Node 17, e81dcd2a9f2b67caff2664f46c8e10a9, 2022-08-17 14:06:50.309464, Tips: [11, 12]\n",
      "Node 18, 7f556fef553ff46bde6f15366754eba5, 2022-08-17 14:06:50.309464, Tips: [12, 13]\n",
      "Node 19, 29235a4d3f0859760ddf8ced977f0f98, 2022-08-17 14:06:50.309464, Tips: [13, 14]\n",
      "Node 20, d62c2ef60c97c450b4ab6a2f0ae9d793, 2022-08-17 14:06:50.309464, Tips: [14, None]\n",
      "Node 21, 710ccbd32e9e5a46d31a403729dac576, 2022-08-17 14:06:50.309464, Tips: [15, 16]\n",
      "Node 22, 2fc77eab65cf7029c10fde386533a831, 2022-08-17 14:06:50.309464, Tips: [16, 17]\n",
      "Node 23, 16bc29f87d5b1ab1f78fc854e6efa80a, 2022-08-17 14:06:50.309464, Tips: [17, 18]\n",
      "Node 24, 9064906f9539724cd0c0437b557a9b30, 2022-08-17 14:06:50.309464, Tips: [18, 19]\n",
      "Node 25, 681dbd5b06098ca21d767d9906a53aa4, 2022-08-17 14:06:50.309464, Tips: [19, 20]\n",
      "Node 26, 976e447eec8f495caf3b1e57205cc1c5, 2022-08-17 14:06:50.309464, Tips: [15, 21]\n",
      "Node 27, 328dbd0813ba0ee92f18ba5dc1afd438, 2022-08-17 14:06:50.309464, Tips: [21, 22]\n",
      "Node 28, 29978cc08b2c160c2ded96e57705fa9f, 2022-08-17 14:06:50.309464, Tips: [22, 23]\n",
      "Node 29, 6f8c7e2b693406f63312b347dbb52519, 2022-08-17 14:06:50.309464, Tips: [23, 24]\n",
      "Node 30, 225a4e9e211ed6b0670a5ea9dd2c11fe, 2022-08-17 14:06:50.309464, Tips: [24, 25]\n",
      "Node 31, 907f1c685971a3f212e2acf4d6a0f6b0, 2022-08-17 14:06:50.309464, Tips: [20, 25]\n",
      "Node 32, da34ad6e0b16129436d5b2320ba87a26, 2022-08-17 14:06:50.309464, Tips: [26, 27]\n",
      "Node 33, 0de378b288d77d0cd39620db2676980f, 2022-08-17 14:06:50.309464, Tips: [27, 28]\n",
      "Node 34, 48fdf8752521af5304e63a0967d5a607, 2022-08-17 14:06:50.309464, Tips: [28, 29]\n",
      "Node 35, 9d2957a37a431bf453515e10449037a1, 2022-08-17 14:06:50.309464, Tips: [29, 30]\n",
      "Node 36, b63aee3af21578598d6f4f7a9032828a, 2022-08-17 14:06:50.309464, Tips: [30, 31]\n",
      "Node 37, 9e612a5af76fd717ec6529c99dabd874, 2022-08-17 14:06:50.309464, Tips: [26, 32]\n",
      "Node 38, b94ddad747bcf98ba9a3f8e3f95b6e17, 2022-08-17 14:06:50.309464, Tips: [32, 33]\n",
      "Node 39, 83c850358d7b06a3d50a61c1acc6bca5, 2022-08-17 14:06:50.309464, Tips: [33, 34]\n",
      "Node 40, 86c7f2661605655f8ad5bdc93de1dd5e, 2022-08-17 14:06:50.309464, Tips: [34, 35]\n",
      "Node 41, d6be8c4aa8f91e1c417375807281a957, 2022-08-17 14:06:50.309464, Tips: [35, 36]\n",
      "Node 42, 41ce4e2dcea42bdda092650fd84ec6bd, 2022-08-17 14:06:50.309464, Tips: [31, 36]\n",
      "Node 43, ee295b62e5172db95ed6a75fe8bfbb27, 2022-08-17 14:06:50.309464, Tips: [37, 38]\n",
      "Node 44, dc2e0795008b1fb13181febaab8f212e, 2022-08-17 14:06:50.309464, Tips: [38, 39]\n",
      "Node 45, 3c4f863edce05f63eb6bfdf33a98b0a3, 2022-08-17 14:06:50.309464, Tips: [39, 40]\n",
      "Node 46, 7385262436b742e72949324815e5b0d4, 2022-08-17 14:06:50.309464, Tips: [40, 41]\n",
      "Node 47, a0b322ed13bc641a700ad78fdbf5d2b5, 2022-08-17 14:06:50.309464, Tips: [41, 42]\n",
      "Node 48, a1dac35182cf9c5638dc03e945fe6222, 2022-08-17 14:06:50.309464, Tips: [37, 43]\n",
      "Node 49, 94c1f904b0dca4c2f8ce2a81e7f42d7b, 2022-08-17 14:06:50.309464, Tips: [43, 44]\n",
      "Node 50, 3d47d1e16f2301c58fb121bf0e2b722b, 2022-08-17 14:06:50.309464, Tips: [44, 45]\n",
      "Node 51, f5f5ecdb78c47eae0b0b1a5a401b5552, 2022-08-17 14:06:50.309464, Tips: [45, 46]\n",
      "Node 52, 13bc1b80ae1b9992ec3caa6e1500c0f1, 2022-08-17 14:06:50.309464, Tips: [46, 47]\n",
      "Node 53, b5c76b09c29820f5d2eeb95fa67d35af, 2022-08-17 14:06:50.309464, Tips: [42, 47]\n",
      "Node 54, d58919874a46aa73bef95555211777fc, 2022-08-17 14:06:50.309464, Tips: [48, 49]\n",
      "Node 55, e0ac39f5637f5a454eec34a605e98d0b, 2022-08-17 14:06:50.309464, Tips: [49, 50]\n",
      "Node 56, ceebb8b581eb0c371d0f9f481d5817ee, 2022-08-17 14:06:50.309464, Tips: [50, 51]\n",
      "Node 57, c1ba60e5b0c2ae1957523f3c86e75499, 2022-08-17 14:06:50.309464, Tips: [51, 52]\n",
      "Node 58, dc57f2d66a94df527ab00ceb3b1d764c, 2022-08-17 14:06:50.309464, Tips: [52, 53]\n",
      "Node 59, 4a9d1cc4462f148f10663f2626271c61, 2022-08-17 14:06:50.309464, Tips: [48, 54]\n",
      "Node 60, 275bca7f480f1ffd30a48e22d9fbb5f8, 2022-08-17 14:06:50.309464, Tips: [54, 55]\n",
      "Node 61, 41302352adc8c07c5b66383609c37027, 2022-08-17 14:06:50.309464, Tips: [55, 56]\n",
      "Node 62, 7ba0b91716c62fcbe71d246228f9d3a6, 2022-08-17 14:06:50.309464, Tips: [56, 57]\n",
      "Node 63, 0a6c1e1ae57b51066508142504c55377, 2022-08-17 14:06:50.309464, Tips: [57, 58]\n",
      "Node 64, 3e5a68f8adea807b90ebf512a3423fc5, 2022-08-17 14:06:50.309464, Tips: [53, 58]\n",
      "Node 65, baffee7170ac6642ec4fa097aa2b6b29, 2022-08-17 14:06:50.309464, Tips: [59, 60]\n",
      "Node 66, b4a591f09ea734132343fb67cc03af58, 2022-08-17 14:06:50.309464, Tips: [60, 61]\n",
      "Node 67, 33e89d60e9099ba6c7b01882ddab7977, 2022-08-17 14:06:50.309464, Tips: [61, 62]\n",
      "Node 68, 139d00693a85844ae9154d0ef7bda7b3, 2022-08-17 14:06:50.309464, Tips: [62, 63]\n",
      "Node 69, e368d18faff03af4c957a6d3e879d326, 2022-08-17 14:06:50.309464, Tips: [63, 64]\n",
      "Node 70, c6090a307d420ae297fcb503df41e7a2, 2022-08-17 14:06:50.309464, Tips: [59, 65]\n",
      "Node 71, a6bea117cd9a085691e0ab9fb7c06302, 2022-08-17 14:06:50.309464, Tips: [65, 66]\n",
      "Node 72, 57ba5148dc1946540d353ad005d59aa2, 2022-08-17 14:06:50.309464, Tips: [66, 67]\n",
      "Node 73, 8e11d22747c4a06501244c8f159b6732, 2022-08-17 14:06:50.309464, Tips: [67, 68]\n",
      "Node 74, 00af542b41db027f666b145677d2add1, 2022-08-17 14:06:50.309464, Tips: [68, 69]\n",
      "Node 75, 0724a98e4f67ee4de81563961cd8dbd8, 2022-08-17 14:06:50.310461, Tips: [64, 69]\n",
      "Node 76, a22ffa4bfabbe75f64983d4db3db6d71, 2022-08-17 14:06:50.310461, Tips: [70, 71]\n",
      "Node 77, 90c5229846f5e3e76a1cdc8210b66de0, 2022-08-17 14:06:50.310461, Tips: [71, 72]\n",
      "Node 78, 2329315cd8de353adb858bb651ba8aaa, 2022-08-17 14:06:50.310461, Tips: [72, 73]\n",
      "Node 79, bce3a868cd7944db10d2b067dcca47d2, 2022-08-17 14:06:50.310461, Tips: [73, 74]\n",
      "Node 80 disabled\n",
      "Node 81, cc66e444326512f04387ba0a893588a4, 2022-08-17 14:06:50.310461, Tips: [70, 76]\n",
      "Node 82, f8e2ad7aeef3c53e98c2a302e327e751, 2022-08-17 14:06:50.310461, Tips: [76, 77]\n",
      "Node 83, 64def3dad9803913d0ddfb1dc69907f4, 2022-08-17 14:06:50.310461, Tips: [77, 78]\n",
      "Node 84, d61ce9d6f5c3a918812e468ffe2b39f1, 2022-08-17 14:06:50.310461, Tips: [78, 79]\n",
      "Node 85, a33f16c807b0eadbc20619e0d55dd946, 2022-08-17 14:06:50.310461, Tips: [79, None]\n",
      "Node 86, 0ecc9f25fffb98dfc2ba45c3386bb885, 2022-08-17 14:06:50.310461, Tips: [75, None]\n",
      "Node 87, 11369009c75014dd939c5539b9e96b20, 2022-08-17 14:06:50.310461, Tips: [81, 82]\n",
      "Node 88, 06223871dba306deef43d9ac593141a5, 2022-08-17 14:06:50.310461, Tips: [82, 83]\n",
      "Node 89, a2485bcaea4ac39a9e1406120ae79d86, 2022-08-17 14:06:50.310461, Tips: [83, 84]\n",
      "Node 90, a52878a1e27e61e099a3c769512c3f8f, 2022-08-17 14:06:50.310461, Tips: [84, 85]\n",
      "Node 91, 222ff54e6e16c45c2779a46bf1dc0b73, 2022-08-17 14:06:50.310461, Tips: [85, 86]\n",
      "Node 92, 3bad7667a159d25e38ad8995b15d0258, 2022-08-17 14:06:50.310461, Tips: [81, 87]\n",
      "Node 93, ff86e48957032c4cab25b529fc88e1a6, 2022-08-17 14:06:50.310461, Tips: [87, 88]\n",
      "Node 94, 09afa4b7c937c96cae21c40f0593c0d5, 2022-08-17 14:06:50.310461, Tips: [88, 89]\n",
      "Node 95, a7d12bf4ae8a9fb6784d4e1ba41dcc02, 2022-08-17 14:06:50.310461, Tips: [89, 90]\n",
      "Node 96, c8fb6747f42db698b872b5d60b3cf39b, 2022-08-17 14:06:50.310461, Tips: [90, 91]\n",
      "Node 97, 7123914229ecda1870f47fbb8e8100b7, 2022-08-17 14:06:50.310461, Tips: [86, 91]\n",
      "Node 98, 41331d4950c2ce9cc1cc5a05cbbe1dd6, 2022-08-17 14:06:50.310461, Tips: [92, 93]\n",
      "Node 99, 711513f59f39d493447c1303ff39d486, 2022-08-17 14:06:50.310461, Tips: [93, 94]\n"
     ]
    }
   ],
   "source": [
    "fnt.disableNode(80)\n",
    "fnt.printFNT()"
   ],
   "metadata": {
    "collapsed": false,
    "pycharm": {
     "name": "#%%\n"
    }
   }
  },
  {
   "cell_type": "code",
   "execution_count": 10,
   "outputs": [
    {
     "name": "stdout",
     "output_type": "stream",
     "text": [
      "Node 80, dc6f3b9b747bb5b193fe409780c714f2, 2022-08-17 14:06:50.310461, Tips: [74, 75]\n"
     ]
    }
   ],
   "source": [
    "fnt.findNode(80)"
   ],
   "metadata": {
    "collapsed": false,
    "pycharm": {
     "name": "#%%\n"
    }
   }
  },
  {
   "cell_type": "markdown",
   "source": [
    "Get lists of throughput, utilization, and waste rate at each layer"
   ],
   "metadata": {
    "collapsed": false,
    "pycharm": {
     "name": "#%% md\n"
    }
   }
  },
  {
   "cell_type": "code",
   "execution_count": 11,
   "outputs": [
    {
     "data": {
      "text/plain": "[1, 2, 3, 4, 5, 6, 5, 6, 5, 6, 5, 6, 5, 6, 5, 6, 5, 6, 5, 6, 2]"
     },
     "execution_count": 11,
     "metadata": {},
     "output_type": "execute_result"
    }
   ],
   "source": [
    "fnt.findThroughput()"
   ],
   "metadata": {
    "collapsed": false,
    "pycharm": {
     "name": "#%%\n"
    }
   }
  },
  {
   "cell_type": "code",
   "execution_count": 12,
   "outputs": [
    {
     "data": {
      "text/plain": "[0.1667,\n 0.3333,\n 0.5,\n 0.6667,\n 0.8333,\n 1.0,\n 0.8333,\n 1.0,\n 0.8333,\n 1.0,\n 0.8333,\n 1.0,\n 0.8333,\n 1.0,\n 0.8333,\n 1.0,\n 0.8333,\n 1.0,\n 0.8333,\n 1.0,\n 0.3333]"
     },
     "execution_count": 12,
     "metadata": {},
     "output_type": "execute_result"
    }
   ],
   "source": [
    "fnt.findUtilization()"
   ],
   "metadata": {
    "collapsed": false,
    "pycharm": {
     "name": "#%%\n"
    }
   }
  },
  {
   "cell_type": "code",
   "execution_count": 13,
   "outputs": [
    {
     "data": {
      "text/plain": "[0.8333,\n 0.6667,\n 0.5,\n 0.3333,\n 0.1667,\n 0.0,\n 0.1667,\n 0.0,\n 0.1667,\n 0.0,\n 0.1667,\n 0.0,\n 0.1667,\n 0.0,\n 0.1667,\n 0.0,\n 0.1667,\n 0.0,\n 0.1667,\n 0.0,\n 0.6667]"
     },
     "execution_count": 13,
     "metadata": {},
     "output_type": "execute_result"
    }
   ],
   "source": [
    "fnt.findWaste()"
   ],
   "metadata": {
    "collapsed": false,
    "pycharm": {
     "name": "#%%\n"
    }
   }
  },
  {
   "cell_type": "markdown",
   "source": [
    "Get cumulative waste rate"
   ],
   "metadata": {
    "collapsed": false,
    "pycharm": {
     "name": "#%% md\n"
    }
   }
  },
  {
   "cell_type": "code",
   "execution_count": 14,
   "outputs": [
    {
     "data": {
      "text/plain": "[0.8333,\n 0.75,\n 0.6667,\n 0.5833,\n 0.5,\n 0.4167,\n 0.381,\n 0.3333,\n 0.3148,\n 0.2833,\n 0.2727,\n 0.25,\n 0.2436,\n 0.2262,\n 0.2222,\n 0.2083,\n 0.2059,\n 0.1944,\n 0.193,\n 0.1833,\n 0.2063]"
     },
     "execution_count": 14,
     "metadata": {},
     "output_type": "execute_result"
    }
   ],
   "source": [
    "fnt.findCumWaste()"
   ],
   "metadata": {
    "collapsed": false,
    "pycharm": {
     "name": "#%%\n"
    }
   }
  },
  {
   "cell_type": "markdown",
   "source": [
    "Get the waste rate of entire network"
   ],
   "metadata": {
    "collapsed": false,
    "pycharm": {
     "name": "#%% md\n"
    }
   }
  },
  {
   "cell_type": "code",
   "execution_count": 15,
   "outputs": [
    {
     "data": {
      "text/plain": "'18.1548%'"
     },
     "execution_count": 15,
     "metadata": {},
     "output_type": "execute_result"
    }
   ],
   "source": [
    "fnt.findWasteRate()"
   ],
   "metadata": {
    "collapsed": false,
    "pycharm": {
     "name": "#%%\n"
    }
   }
  }
 ],
 "metadata": {
  "kernelspec": {
   "display_name": "Python 3",
   "language": "python",
   "name": "python3"
  },
  "language_info": {
   "codemirror_mode": {
    "name": "ipython",
    "version": 2
   },
   "file_extension": ".py",
   "mimetype": "text/x-python",
   "name": "python",
   "nbconvert_exporter": "python",
   "pygments_lexer": "ipython2",
   "version": "2.7.6"
  }
 },
 "nbformat": 4,
 "nbformat_minor": 0
}